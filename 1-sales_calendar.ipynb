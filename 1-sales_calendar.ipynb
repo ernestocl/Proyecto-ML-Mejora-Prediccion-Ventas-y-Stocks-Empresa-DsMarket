{
  "cells": [
    {
      "cell_type": "markdown",
      "metadata": {
        "id": "view-in-github",
        "colab_type": "text"
      },
      "source": [
        "<a href=\"https://colab.research.google.com/gist/ernestocl/c5d751734b469a8738785388fe093d3b/1-sales_calendar.ipynb\" target=\"_parent\"><img src=\"https://colab.research.google.com/assets/colab-badge.svg\" alt=\"Open In Colab\"/></a>"
      ]
    },
    {
      "cell_type": "markdown",
      "metadata": {
        "id": "IGYJslKrAiQK"
      },
      "source": [
        "En este notebook sacamos las ventas por semana y unique id ==> \"sales_calendar_v2\""
      ]
    },
    {
      "cell_type": "code",
      "source": [
        "from google.colab import drive\n",
        "drive.mount('/content/drive')"
      ],
      "metadata": {
        "colab": {
          "base_uri": "https://localhost:8080/"
        },
        "id": "aedtp4qvEqHl",
        "outputId": "11655899-4b4e-4b2e-b079-a7628fd6e960"
      },
      "execution_count": null,
      "outputs": [
        {
          "output_type": "stream",
          "name": "stdout",
          "text": [
            "Mounted at /content/drive\n"
          ]
        }
      ]
    },
    {
      "cell_type": "code",
      "execution_count": null,
      "metadata": {
        "_cell_guid": "b1076dfc-b9ad-4769-8c92-a6c4dae69d19",
        "_uuid": "8f2839f25d086af736a60e9eeb907d3b93b6e0e5",
        "execution": {
          "iopub.execute_input": "2022-07-24T11:01:29.373444Z",
          "iopub.status.busy": "2022-07-24T11:01:29.372415Z",
          "iopub.status.idle": "2022-07-24T11:01:30.576105Z",
          "shell.execute_reply": "2022-07-24T11:01:30.575036Z",
          "shell.execute_reply.started": "2022-07-24T11:01:29.373348Z"
        },
        "id": "Vqc0_SGkAiQQ"
      },
      "outputs": [],
      "source": [
        "# This Python 3 environment comes with many helpful analytics libraries installed\n",
        "# It is defined by the kaggle/python Docker image: https://github.com/kaggle/docker-python\n",
        "# For example, here's several helpful packages to load\n",
        "\n",
        "import numpy as np # linear algebra\n",
        "import pandas as pd # data processing, CSV file I/O (e.g. pd.read_csv)\n",
        "import seaborn as sns\n",
        "import matplotlib.pyplot as plt\n",
        "from sklearn.preprocessing import LabelEncoder\n",
        "import datetime\n",
        "sns.set_theme(style='darkgrid')\n",
        "\n",
        "# Input data files are available in the read-only \"../input/\" directory\n",
        "# For example, running this (by clicking run or pressing Shift+Enter) will list all files under the input directory\n",
        "\n",
        "import os\n",
        "for dirname, _, filenames in os.walk('/kaggle/input'):\n",
        "    for filename in filenames:\n",
        "        print(os.path.join(dirname, filename))\n",
        "\n",
        "# You can write up to 20GB to the current directory (/kaggle/working/) that gets preserved as output when you create a version using \"Save & Run All\" \n",
        "# You can also write temporary files to /kaggle/temp/, but they won't be saved outside of the current session"
      ]
    },
    {
      "cell_type": "code",
      "execution_count": null,
      "metadata": {
        "id": "DXKj9ilkAiQS"
      },
      "outputs": [],
      "source": []
    },
    {
      "cell_type": "markdown",
      "metadata": {
        "id": "LAlMlUb8AiQS"
      },
      "source": [
        "**Requerimiento:** analizar la situacion actual de las ventas de la compañía por:\n",
        "\n",
        "* Producto -> Productos más vendidos y productos menos populares\n",
        "* Tienda -> Precios por tienda (y añadir cantidades)\n",
        "* Ciudad -> Mirar solo las de NY, Boston, Philly."
      ]
    },
    {
      "cell_type": "code",
      "execution_count": null,
      "metadata": {
        "execution": {
          "iopub.execute_input": "2022-07-24T11:02:18.553286Z",
          "iopub.status.busy": "2022-07-24T11:02:18.552197Z",
          "iopub.status.idle": "2022-07-24T11:02:23.281549Z",
          "shell.execute_reply": "2022-07-24T11:02:23.280545Z",
          "shell.execute_reply.started": "2022-07-24T11:02:18.553236Z"
        },
        "id": "uvLZHIkbAiQT"
      },
      "outputs": [],
      "source": [
        "sales = pd.read_csv(\"/content/drive/MyDrive/MASTER EN DATA SCIENCE/Capstone/data_dsmarket/GrupoRetail_1/Proceso Total/BBDD input/item_sales.csv\")\n",
        "calendar = pd.read_csv(\"/content/drive/MyDrive/MASTER EN DATA SCIENCE/Capstone/data_dsmarket/GrupoRetail_1/Proceso Total/BBDD input/daily_calendar_with_events.csv\")"
      ]
    },
    {
      "cell_type": "code",
      "execution_count": null,
      "metadata": {
        "execution": {
          "iopub.execute_input": "2022-07-24T11:02:34.126403Z",
          "iopub.status.busy": "2022-07-24T11:02:34.125489Z",
          "iopub.status.idle": "2022-07-24T11:02:34.130896Z",
          "shell.execute_reply": "2022-07-24T11:02:34.130072Z",
          "shell.execute_reply.started": "2022-07-24T11:02:34.126365Z"
        },
        "id": "vQWoakKbAiQU"
      },
      "outputs": [],
      "source": [
        "#Creamos la lista de variables idenfiticadoras y variables de medidas.\n",
        "lista = sales.columns.values.tolist()\n",
        "lista_1 = lista[0:7]\n",
        "del lista[0:7]"
      ]
    },
    {
      "cell_type": "code",
      "execution_count": null,
      "metadata": {
        "execution": {
          "iopub.execute_input": "2022-07-24T11:02:36.995120Z",
          "iopub.status.busy": "2022-07-24T11:02:36.994730Z",
          "iopub.status.idle": "2022-07-24T11:02:47.645175Z",
          "shell.execute_reply": "2022-07-24T11:02:47.644015Z",
          "shell.execute_reply.started": "2022-07-24T11:02:36.995085Z"
        },
        "id": "QYyLLo_9AiQV"
      },
      "outputs": [],
      "source": [
        "#Utilizamos la función MELT\n",
        "sales = sales.melt(id_vars=lista_1, var_name=\"date\", value_name= \"units\")"
      ]
    },
    {
      "cell_type": "code",
      "execution_count": null,
      "metadata": {
        "scrolled": false,
        "id": "knNegujyAiQV",
        "colab": {
          "base_uri": "https://localhost:8080/",
          "height": 206
        },
        "outputId": "928fac4b-83df-473c-e827-50d0abdc8b37"
      },
      "outputs": [
        {
          "output_type": "execute_result",
          "data": {
            "text/plain": [
              "                       id              item    category    department  \\\n",
              "0  ACCESORIES_1_001_NYC_1  ACCESORIES_1_001  ACCESORIES  ACCESORIES_1   \n",
              "1  ACCESORIES_1_002_NYC_1  ACCESORIES_1_002  ACCESORIES  ACCESORIES_1   \n",
              "2  ACCESORIES_1_003_NYC_1  ACCESORIES_1_003  ACCESORIES  ACCESORIES_1   \n",
              "3  ACCESORIES_1_004_NYC_1  ACCESORIES_1_004  ACCESORIES  ACCESORIES_1   \n",
              "4  ACCESORIES_1_005_NYC_1  ACCESORIES_1_005  ACCESORIES  ACCESORIES_1   \n",
              "\n",
              "               store store_code    region date  units  \n",
              "0  Greenwich_Village      NYC_1  New York  d_1      0  \n",
              "1  Greenwich_Village      NYC_1  New York  d_1      0  \n",
              "2  Greenwich_Village      NYC_1  New York  d_1      0  \n",
              "3  Greenwich_Village      NYC_1  New York  d_1      0  \n",
              "4  Greenwich_Village      NYC_1  New York  d_1      0  "
            ],
            "text/html": [
              "\n",
              "  <div id=\"df-8665c280-d710-4904-9f26-dd0e37305789\">\n",
              "    <div class=\"colab-df-container\">\n",
              "      <div>\n",
              "<style scoped>\n",
              "    .dataframe tbody tr th:only-of-type {\n",
              "        vertical-align: middle;\n",
              "    }\n",
              "\n",
              "    .dataframe tbody tr th {\n",
              "        vertical-align: top;\n",
              "    }\n",
              "\n",
              "    .dataframe thead th {\n",
              "        text-align: right;\n",
              "    }\n",
              "</style>\n",
              "<table border=\"1\" class=\"dataframe\">\n",
              "  <thead>\n",
              "    <tr style=\"text-align: right;\">\n",
              "      <th></th>\n",
              "      <th>id</th>\n",
              "      <th>item</th>\n",
              "      <th>category</th>\n",
              "      <th>department</th>\n",
              "      <th>store</th>\n",
              "      <th>store_code</th>\n",
              "      <th>region</th>\n",
              "      <th>date</th>\n",
              "      <th>units</th>\n",
              "    </tr>\n",
              "  </thead>\n",
              "  <tbody>\n",
              "    <tr>\n",
              "      <th>0</th>\n",
              "      <td>ACCESORIES_1_001_NYC_1</td>\n",
              "      <td>ACCESORIES_1_001</td>\n",
              "      <td>ACCESORIES</td>\n",
              "      <td>ACCESORIES_1</td>\n",
              "      <td>Greenwich_Village</td>\n",
              "      <td>NYC_1</td>\n",
              "      <td>New York</td>\n",
              "      <td>d_1</td>\n",
              "      <td>0</td>\n",
              "    </tr>\n",
              "    <tr>\n",
              "      <th>1</th>\n",
              "      <td>ACCESORIES_1_002_NYC_1</td>\n",
              "      <td>ACCESORIES_1_002</td>\n",
              "      <td>ACCESORIES</td>\n",
              "      <td>ACCESORIES_1</td>\n",
              "      <td>Greenwich_Village</td>\n",
              "      <td>NYC_1</td>\n",
              "      <td>New York</td>\n",
              "      <td>d_1</td>\n",
              "      <td>0</td>\n",
              "    </tr>\n",
              "    <tr>\n",
              "      <th>2</th>\n",
              "      <td>ACCESORIES_1_003_NYC_1</td>\n",
              "      <td>ACCESORIES_1_003</td>\n",
              "      <td>ACCESORIES</td>\n",
              "      <td>ACCESORIES_1</td>\n",
              "      <td>Greenwich_Village</td>\n",
              "      <td>NYC_1</td>\n",
              "      <td>New York</td>\n",
              "      <td>d_1</td>\n",
              "      <td>0</td>\n",
              "    </tr>\n",
              "    <tr>\n",
              "      <th>3</th>\n",
              "      <td>ACCESORIES_1_004_NYC_1</td>\n",
              "      <td>ACCESORIES_1_004</td>\n",
              "      <td>ACCESORIES</td>\n",
              "      <td>ACCESORIES_1</td>\n",
              "      <td>Greenwich_Village</td>\n",
              "      <td>NYC_1</td>\n",
              "      <td>New York</td>\n",
              "      <td>d_1</td>\n",
              "      <td>0</td>\n",
              "    </tr>\n",
              "    <tr>\n",
              "      <th>4</th>\n",
              "      <td>ACCESORIES_1_005_NYC_1</td>\n",
              "      <td>ACCESORIES_1_005</td>\n",
              "      <td>ACCESORIES</td>\n",
              "      <td>ACCESORIES_1</td>\n",
              "      <td>Greenwich_Village</td>\n",
              "      <td>NYC_1</td>\n",
              "      <td>New York</td>\n",
              "      <td>d_1</td>\n",
              "      <td>0</td>\n",
              "    </tr>\n",
              "  </tbody>\n",
              "</table>\n",
              "</div>\n",
              "      <button class=\"colab-df-convert\" onclick=\"convertToInteractive('df-8665c280-d710-4904-9f26-dd0e37305789')\"\n",
              "              title=\"Convert this dataframe to an interactive table.\"\n",
              "              style=\"display:none;\">\n",
              "        \n",
              "  <svg xmlns=\"http://www.w3.org/2000/svg\" height=\"24px\"viewBox=\"0 0 24 24\"\n",
              "       width=\"24px\">\n",
              "    <path d=\"M0 0h24v24H0V0z\" fill=\"none\"/>\n",
              "    <path d=\"M18.56 5.44l.94 2.06.94-2.06 2.06-.94-2.06-.94-.94-2.06-.94 2.06-2.06.94zm-11 1L8.5 8.5l.94-2.06 2.06-.94-2.06-.94L8.5 2.5l-.94 2.06-2.06.94zm10 10l.94 2.06.94-2.06 2.06-.94-2.06-.94-.94-2.06-.94 2.06-2.06.94z\"/><path d=\"M17.41 7.96l-1.37-1.37c-.4-.4-.92-.59-1.43-.59-.52 0-1.04.2-1.43.59L10.3 9.45l-7.72 7.72c-.78.78-.78 2.05 0 2.83L4 21.41c.39.39.9.59 1.41.59.51 0 1.02-.2 1.41-.59l7.78-7.78 2.81-2.81c.8-.78.8-2.07 0-2.86zM5.41 20L4 18.59l7.72-7.72 1.47 1.35L5.41 20z\"/>\n",
              "  </svg>\n",
              "      </button>\n",
              "      \n",
              "  <style>\n",
              "    .colab-df-container {\n",
              "      display:flex;\n",
              "      flex-wrap:wrap;\n",
              "      gap: 12px;\n",
              "    }\n",
              "\n",
              "    .colab-df-convert {\n",
              "      background-color: #E8F0FE;\n",
              "      border: none;\n",
              "      border-radius: 50%;\n",
              "      cursor: pointer;\n",
              "      display: none;\n",
              "      fill: #1967D2;\n",
              "      height: 32px;\n",
              "      padding: 0 0 0 0;\n",
              "      width: 32px;\n",
              "    }\n",
              "\n",
              "    .colab-df-convert:hover {\n",
              "      background-color: #E2EBFA;\n",
              "      box-shadow: 0px 1px 2px rgba(60, 64, 67, 0.3), 0px 1px 3px 1px rgba(60, 64, 67, 0.15);\n",
              "      fill: #174EA6;\n",
              "    }\n",
              "\n",
              "    [theme=dark] .colab-df-convert {\n",
              "      background-color: #3B4455;\n",
              "      fill: #D2E3FC;\n",
              "    }\n",
              "\n",
              "    [theme=dark] .colab-df-convert:hover {\n",
              "      background-color: #434B5C;\n",
              "      box-shadow: 0px 1px 3px 1px rgba(0, 0, 0, 0.15);\n",
              "      filter: drop-shadow(0px 1px 2px rgba(0, 0, 0, 0.3));\n",
              "      fill: #FFFFFF;\n",
              "    }\n",
              "  </style>\n",
              "\n",
              "      <script>\n",
              "        const buttonEl =\n",
              "          document.querySelector('#df-8665c280-d710-4904-9f26-dd0e37305789 button.colab-df-convert');\n",
              "        buttonEl.style.display =\n",
              "          google.colab.kernel.accessAllowed ? 'block' : 'none';\n",
              "\n",
              "        async function convertToInteractive(key) {\n",
              "          const element = document.querySelector('#df-8665c280-d710-4904-9f26-dd0e37305789');\n",
              "          const dataTable =\n",
              "            await google.colab.kernel.invokeFunction('convertToInteractive',\n",
              "                                                     [key], {});\n",
              "          if (!dataTable) return;\n",
              "\n",
              "          const docLinkHtml = 'Like what you see? Visit the ' +\n",
              "            '<a target=\"_blank\" href=https://colab.research.google.com/notebooks/data_table.ipynb>data table notebook</a>'\n",
              "            + ' to learn more about interactive tables.';\n",
              "          element.innerHTML = '';\n",
              "          dataTable['output_type'] = 'display_data';\n",
              "          await google.colab.output.renderOutput(dataTable, element);\n",
              "          const docLink = document.createElement('div');\n",
              "          docLink.innerHTML = docLinkHtml;\n",
              "          element.appendChild(docLink);\n",
              "        }\n",
              "      </script>\n",
              "    </div>\n",
              "  </div>\n",
              "  "
            ]
          },
          "metadata": {},
          "execution_count": 6
        }
      ],
      "source": [
        "sales.head()"
      ]
    },
    {
      "cell_type": "code",
      "execution_count": null,
      "metadata": {
        "id": "lapi3hhLAiQW",
        "colab": {
          "base_uri": "https://localhost:8080/"
        },
        "outputId": "9b649006-19ea-4e8a-e49c-b66e61e781e0"
      },
      "outputs": [
        {
          "output_type": "execute_result",
          "data": {
            "text/plain": [
              "(58327370, 9)"
            ]
          },
          "metadata": {},
          "execution_count": 7
        }
      ],
      "source": [
        "sales.shape"
      ]
    },
    {
      "cell_type": "code",
      "execution_count": null,
      "metadata": {
        "execution": {
          "iopub.execute_input": "2022-07-24T11:02:51.288647Z",
          "iopub.status.busy": "2022-07-24T11:02:51.287909Z",
          "iopub.status.idle": "2022-07-24T11:02:51.298684Z",
          "shell.execute_reply": "2022-07-24T11:02:51.297523Z",
          "shell.execute_reply.started": "2022-07-24T11:02:51.288610Z"
        },
        "id": "NXDDYeFAAiQX"
      },
      "outputs": [],
      "source": [
        "calendar[\"date\"] = pd.to_datetime(calendar[\"date\"], format = \"%Y-%m-%d\")\n",
        "calendar[\"week\"] = calendar[\"date\"].dt.isocalendar().week.astype(str)\n",
        "calendar[\"year\"] = calendar[\"date\"].dt.isocalendar().year.astype(str)\n",
        "calendar[\"year_week\"] = calendar[\"year\"] + \"-\" + calendar[\"week\"]"
      ]
    },
    {
      "cell_type": "code",
      "execution_count": null,
      "metadata": {
        "execution": {
          "iopub.execute_input": "2022-07-24T11:05:29.907970Z",
          "iopub.status.busy": "2022-07-24T11:05:29.907641Z",
          "iopub.status.idle": "2022-07-24T11:05:29.918476Z",
          "shell.execute_reply": "2022-07-24T11:05:29.917638Z",
          "shell.execute_reply.started": "2022-07-24T11:05:29.907940Z"
        },
        "id": "h0mNIUxRAiQX"
      },
      "outputs": [],
      "source": [
        "sales.rename(columns={\"date\": \"d\"}, inplace = True)"
      ]
    },
    {
      "cell_type": "code",
      "execution_count": null,
      "metadata": {
        "execution": {
          "iopub.execute_input": "2022-07-24T11:07:12.734953Z",
          "iopub.status.busy": "2022-07-24T11:07:12.734406Z",
          "iopub.status.idle": "2022-07-24T11:07:12.743340Z",
          "shell.execute_reply": "2022-07-24T11:07:12.742331Z",
          "shell.execute_reply.started": "2022-07-24T11:07:12.734919Z"
        },
        "id": "AtWqP9TbAiQY",
        "colab": {
          "base_uri": "https://localhost:8080/"
        },
        "outputId": "5db02783-3105-44f6-9776-8cd06a6baa8a"
      },
      "outputs": [
        {
          "output_type": "execute_result",
          "data": {
            "text/plain": [
              "(58327370, 9)"
            ]
          },
          "metadata": {},
          "execution_count": 10
        }
      ],
      "source": [
        "sales.shape"
      ]
    },
    {
      "cell_type": "code",
      "execution_count": null,
      "metadata": {
        "id": "gqiiavfcAiQY"
      },
      "outputs": [],
      "source": [
        "sales_calendar = pd.merge(\n",
        "    left = sales,\n",
        "    right = calendar,\n",
        "    how = 'left',\n",
        "    on = [\"d\"])"
      ]
    },
    {
      "cell_type": "code",
      "execution_count": null,
      "metadata": {
        "execution": {
          "iopub.execute_input": "2022-07-24T10:05:50.845196Z",
          "iopub.status.busy": "2022-07-24T10:05:50.844722Z",
          "iopub.status.idle": "2022-07-24T10:05:50.874069Z",
          "shell.execute_reply": "2022-07-24T10:05:50.872858Z",
          "shell.execute_reply.started": "2022-07-24T10:05:50.845145Z"
        },
        "scrolled": false,
        "id": "YpS_ZNJfAiQZ",
        "colab": {
          "base_uri": "https://localhost:8080/",
          "height": 206
        },
        "outputId": "d19b2cb5-80a4-4fcf-8937-2a8908e2e20c"
      },
      "outputs": [
        {
          "output_type": "execute_result",
          "data": {
            "text/plain": [
              "                       id              item    category    department  \\\n",
              "0  ACCESORIES_1_001_NYC_1  ACCESORIES_1_001  ACCESORIES  ACCESORIES_1   \n",
              "1  ACCESORIES_1_002_NYC_1  ACCESORIES_1_002  ACCESORIES  ACCESORIES_1   \n",
              "2  ACCESORIES_1_003_NYC_1  ACCESORIES_1_003  ACCESORIES  ACCESORIES_1   \n",
              "3  ACCESORIES_1_004_NYC_1  ACCESORIES_1_004  ACCESORIES  ACCESORIES_1   \n",
              "4  ACCESORIES_1_005_NYC_1  ACCESORIES_1_005  ACCESORIES  ACCESORIES_1   \n",
              "\n",
              "               store store_code    region    d  units       date   weekday  \\\n",
              "0  Greenwich_Village      NYC_1  New York  d_1      0 2011-01-29  Saturday   \n",
              "1  Greenwich_Village      NYC_1  New York  d_1      0 2011-01-29  Saturday   \n",
              "2  Greenwich_Village      NYC_1  New York  d_1      0 2011-01-29  Saturday   \n",
              "3  Greenwich_Village      NYC_1  New York  d_1      0 2011-01-29  Saturday   \n",
              "4  Greenwich_Village      NYC_1  New York  d_1      0 2011-01-29  Saturday   \n",
              "\n",
              "   weekday_int event week  year year_week  \n",
              "0            1   NaN    4  2011    2011-4  \n",
              "1            1   NaN    4  2011    2011-4  \n",
              "2            1   NaN    4  2011    2011-4  \n",
              "3            1   NaN    4  2011    2011-4  \n",
              "4            1   NaN    4  2011    2011-4  "
            ],
            "text/html": [
              "\n",
              "  <div id=\"df-796cbc82-07fe-4606-a3ab-d33a53520146\">\n",
              "    <div class=\"colab-df-container\">\n",
              "      <div>\n",
              "<style scoped>\n",
              "    .dataframe tbody tr th:only-of-type {\n",
              "        vertical-align: middle;\n",
              "    }\n",
              "\n",
              "    .dataframe tbody tr th {\n",
              "        vertical-align: top;\n",
              "    }\n",
              "\n",
              "    .dataframe thead th {\n",
              "        text-align: right;\n",
              "    }\n",
              "</style>\n",
              "<table border=\"1\" class=\"dataframe\">\n",
              "  <thead>\n",
              "    <tr style=\"text-align: right;\">\n",
              "      <th></th>\n",
              "      <th>id</th>\n",
              "      <th>item</th>\n",
              "      <th>category</th>\n",
              "      <th>department</th>\n",
              "      <th>store</th>\n",
              "      <th>store_code</th>\n",
              "      <th>region</th>\n",
              "      <th>d</th>\n",
              "      <th>units</th>\n",
              "      <th>date</th>\n",
              "      <th>weekday</th>\n",
              "      <th>weekday_int</th>\n",
              "      <th>event</th>\n",
              "      <th>week</th>\n",
              "      <th>year</th>\n",
              "      <th>year_week</th>\n",
              "    </tr>\n",
              "  </thead>\n",
              "  <tbody>\n",
              "    <tr>\n",
              "      <th>0</th>\n",
              "      <td>ACCESORIES_1_001_NYC_1</td>\n",
              "      <td>ACCESORIES_1_001</td>\n",
              "      <td>ACCESORIES</td>\n",
              "      <td>ACCESORIES_1</td>\n",
              "      <td>Greenwich_Village</td>\n",
              "      <td>NYC_1</td>\n",
              "      <td>New York</td>\n",
              "      <td>d_1</td>\n",
              "      <td>0</td>\n",
              "      <td>2011-01-29</td>\n",
              "      <td>Saturday</td>\n",
              "      <td>1</td>\n",
              "      <td>NaN</td>\n",
              "      <td>4</td>\n",
              "      <td>2011</td>\n",
              "      <td>2011-4</td>\n",
              "    </tr>\n",
              "    <tr>\n",
              "      <th>1</th>\n",
              "      <td>ACCESORIES_1_002_NYC_1</td>\n",
              "      <td>ACCESORIES_1_002</td>\n",
              "      <td>ACCESORIES</td>\n",
              "      <td>ACCESORIES_1</td>\n",
              "      <td>Greenwich_Village</td>\n",
              "      <td>NYC_1</td>\n",
              "      <td>New York</td>\n",
              "      <td>d_1</td>\n",
              "      <td>0</td>\n",
              "      <td>2011-01-29</td>\n",
              "      <td>Saturday</td>\n",
              "      <td>1</td>\n",
              "      <td>NaN</td>\n",
              "      <td>4</td>\n",
              "      <td>2011</td>\n",
              "      <td>2011-4</td>\n",
              "    </tr>\n",
              "    <tr>\n",
              "      <th>2</th>\n",
              "      <td>ACCESORIES_1_003_NYC_1</td>\n",
              "      <td>ACCESORIES_1_003</td>\n",
              "      <td>ACCESORIES</td>\n",
              "      <td>ACCESORIES_1</td>\n",
              "      <td>Greenwich_Village</td>\n",
              "      <td>NYC_1</td>\n",
              "      <td>New York</td>\n",
              "      <td>d_1</td>\n",
              "      <td>0</td>\n",
              "      <td>2011-01-29</td>\n",
              "      <td>Saturday</td>\n",
              "      <td>1</td>\n",
              "      <td>NaN</td>\n",
              "      <td>4</td>\n",
              "      <td>2011</td>\n",
              "      <td>2011-4</td>\n",
              "    </tr>\n",
              "    <tr>\n",
              "      <th>3</th>\n",
              "      <td>ACCESORIES_1_004_NYC_1</td>\n",
              "      <td>ACCESORIES_1_004</td>\n",
              "      <td>ACCESORIES</td>\n",
              "      <td>ACCESORIES_1</td>\n",
              "      <td>Greenwich_Village</td>\n",
              "      <td>NYC_1</td>\n",
              "      <td>New York</td>\n",
              "      <td>d_1</td>\n",
              "      <td>0</td>\n",
              "      <td>2011-01-29</td>\n",
              "      <td>Saturday</td>\n",
              "      <td>1</td>\n",
              "      <td>NaN</td>\n",
              "      <td>4</td>\n",
              "      <td>2011</td>\n",
              "      <td>2011-4</td>\n",
              "    </tr>\n",
              "    <tr>\n",
              "      <th>4</th>\n",
              "      <td>ACCESORIES_1_005_NYC_1</td>\n",
              "      <td>ACCESORIES_1_005</td>\n",
              "      <td>ACCESORIES</td>\n",
              "      <td>ACCESORIES_1</td>\n",
              "      <td>Greenwich_Village</td>\n",
              "      <td>NYC_1</td>\n",
              "      <td>New York</td>\n",
              "      <td>d_1</td>\n",
              "      <td>0</td>\n",
              "      <td>2011-01-29</td>\n",
              "      <td>Saturday</td>\n",
              "      <td>1</td>\n",
              "      <td>NaN</td>\n",
              "      <td>4</td>\n",
              "      <td>2011</td>\n",
              "      <td>2011-4</td>\n",
              "    </tr>\n",
              "  </tbody>\n",
              "</table>\n",
              "</div>\n",
              "      <button class=\"colab-df-convert\" onclick=\"convertToInteractive('df-796cbc82-07fe-4606-a3ab-d33a53520146')\"\n",
              "              title=\"Convert this dataframe to an interactive table.\"\n",
              "              style=\"display:none;\">\n",
              "        \n",
              "  <svg xmlns=\"http://www.w3.org/2000/svg\" height=\"24px\"viewBox=\"0 0 24 24\"\n",
              "       width=\"24px\">\n",
              "    <path d=\"M0 0h24v24H0V0z\" fill=\"none\"/>\n",
              "    <path d=\"M18.56 5.44l.94 2.06.94-2.06 2.06-.94-2.06-.94-.94-2.06-.94 2.06-2.06.94zm-11 1L8.5 8.5l.94-2.06 2.06-.94-2.06-.94L8.5 2.5l-.94 2.06-2.06.94zm10 10l.94 2.06.94-2.06 2.06-.94-2.06-.94-.94-2.06-.94 2.06-2.06.94z\"/><path d=\"M17.41 7.96l-1.37-1.37c-.4-.4-.92-.59-1.43-.59-.52 0-1.04.2-1.43.59L10.3 9.45l-7.72 7.72c-.78.78-.78 2.05 0 2.83L4 21.41c.39.39.9.59 1.41.59.51 0 1.02-.2 1.41-.59l7.78-7.78 2.81-2.81c.8-.78.8-2.07 0-2.86zM5.41 20L4 18.59l7.72-7.72 1.47 1.35L5.41 20z\"/>\n",
              "  </svg>\n",
              "      </button>\n",
              "      \n",
              "  <style>\n",
              "    .colab-df-container {\n",
              "      display:flex;\n",
              "      flex-wrap:wrap;\n",
              "      gap: 12px;\n",
              "    }\n",
              "\n",
              "    .colab-df-convert {\n",
              "      background-color: #E8F0FE;\n",
              "      border: none;\n",
              "      border-radius: 50%;\n",
              "      cursor: pointer;\n",
              "      display: none;\n",
              "      fill: #1967D2;\n",
              "      height: 32px;\n",
              "      padding: 0 0 0 0;\n",
              "      width: 32px;\n",
              "    }\n",
              "\n",
              "    .colab-df-convert:hover {\n",
              "      background-color: #E2EBFA;\n",
              "      box-shadow: 0px 1px 2px rgba(60, 64, 67, 0.3), 0px 1px 3px 1px rgba(60, 64, 67, 0.15);\n",
              "      fill: #174EA6;\n",
              "    }\n",
              "\n",
              "    [theme=dark] .colab-df-convert {\n",
              "      background-color: #3B4455;\n",
              "      fill: #D2E3FC;\n",
              "    }\n",
              "\n",
              "    [theme=dark] .colab-df-convert:hover {\n",
              "      background-color: #434B5C;\n",
              "      box-shadow: 0px 1px 3px 1px rgba(0, 0, 0, 0.15);\n",
              "      filter: drop-shadow(0px 1px 2px rgba(0, 0, 0, 0.3));\n",
              "      fill: #FFFFFF;\n",
              "    }\n",
              "  </style>\n",
              "\n",
              "      <script>\n",
              "        const buttonEl =\n",
              "          document.querySelector('#df-796cbc82-07fe-4606-a3ab-d33a53520146 button.colab-df-convert');\n",
              "        buttonEl.style.display =\n",
              "          google.colab.kernel.accessAllowed ? 'block' : 'none';\n",
              "\n",
              "        async function convertToInteractive(key) {\n",
              "          const element = document.querySelector('#df-796cbc82-07fe-4606-a3ab-d33a53520146');\n",
              "          const dataTable =\n",
              "            await google.colab.kernel.invokeFunction('convertToInteractive',\n",
              "                                                     [key], {});\n",
              "          if (!dataTable) return;\n",
              "\n",
              "          const docLinkHtml = 'Like what you see? Visit the ' +\n",
              "            '<a target=\"_blank\" href=https://colab.research.google.com/notebooks/data_table.ipynb>data table notebook</a>'\n",
              "            + ' to learn more about interactive tables.';\n",
              "          element.innerHTML = '';\n",
              "          dataTable['output_type'] = 'display_data';\n",
              "          await google.colab.output.renderOutput(dataTable, element);\n",
              "          const docLink = document.createElement('div');\n",
              "          docLink.innerHTML = docLinkHtml;\n",
              "          element.appendChild(docLink);\n",
              "        }\n",
              "      </script>\n",
              "    </div>\n",
              "  </div>\n",
              "  "
            ]
          },
          "metadata": {},
          "execution_count": 12
        }
      ],
      "source": [
        "sales_calendar.head()"
      ]
    },
    {
      "cell_type": "code",
      "execution_count": null,
      "metadata": {
        "id": "Iqb_00R9AiQZ",
        "colab": {
          "base_uri": "https://localhost:8080/"
        },
        "outputId": "4808402d-3a2d-4215-c4a4-6f07d3c5c2f5"
      },
      "outputs": [
        {
          "output_type": "execute_result",
          "data": {
            "text/plain": [
              "['item',\n",
              " 'category',\n",
              " 'department',\n",
              " 'store',\n",
              " 'store_code',\n",
              " 'region',\n",
              " 'd',\n",
              " 'date',\n",
              " 'weekday',\n",
              " 'weekday_int',\n",
              " 'event',\n",
              " 'week',\n",
              " 'year']"
            ]
          },
          "metadata": {},
          "execution_count": 13
        }
      ],
      "source": [
        "lista = sales_calendar.columns.values.tolist()\n",
        "lista.remove(\"id\")\n",
        "lista.remove(\"units\")\n",
        "lista.remove(\"year_week\")\n",
        "lista"
      ]
    },
    {
      "cell_type": "code",
      "execution_count": null,
      "metadata": {
        "id": "YGJOsllAAiQZ"
      },
      "outputs": [],
      "source": [
        "sales_calendar.drop(lista, axis=1, inplace=True)"
      ]
    },
    {
      "cell_type": "code",
      "execution_count": null,
      "metadata": {
        "scrolled": true,
        "id": "A6TMgcjQAiQZ",
        "colab": {
          "base_uri": "https://localhost:8080/",
          "height": 206
        },
        "outputId": "830af9b0-ff8a-4b93-d290-4853cf04ceeb"
      },
      "outputs": [
        {
          "output_type": "execute_result",
          "data": {
            "text/plain": [
              "                       id  units year_week\n",
              "0  ACCESORIES_1_001_NYC_1      0    2011-4\n",
              "1  ACCESORIES_1_002_NYC_1      0    2011-4\n",
              "2  ACCESORIES_1_003_NYC_1      0    2011-4\n",
              "3  ACCESORIES_1_004_NYC_1      0    2011-4\n",
              "4  ACCESORIES_1_005_NYC_1      0    2011-4"
            ],
            "text/html": [
              "\n",
              "  <div id=\"df-4620f2a7-5160-4a45-b22e-2db4830417d4\">\n",
              "    <div class=\"colab-df-container\">\n",
              "      <div>\n",
              "<style scoped>\n",
              "    .dataframe tbody tr th:only-of-type {\n",
              "        vertical-align: middle;\n",
              "    }\n",
              "\n",
              "    .dataframe tbody tr th {\n",
              "        vertical-align: top;\n",
              "    }\n",
              "\n",
              "    .dataframe thead th {\n",
              "        text-align: right;\n",
              "    }\n",
              "</style>\n",
              "<table border=\"1\" class=\"dataframe\">\n",
              "  <thead>\n",
              "    <tr style=\"text-align: right;\">\n",
              "      <th></th>\n",
              "      <th>id</th>\n",
              "      <th>units</th>\n",
              "      <th>year_week</th>\n",
              "    </tr>\n",
              "  </thead>\n",
              "  <tbody>\n",
              "    <tr>\n",
              "      <th>0</th>\n",
              "      <td>ACCESORIES_1_001_NYC_1</td>\n",
              "      <td>0</td>\n",
              "      <td>2011-4</td>\n",
              "    </tr>\n",
              "    <tr>\n",
              "      <th>1</th>\n",
              "      <td>ACCESORIES_1_002_NYC_1</td>\n",
              "      <td>0</td>\n",
              "      <td>2011-4</td>\n",
              "    </tr>\n",
              "    <tr>\n",
              "      <th>2</th>\n",
              "      <td>ACCESORIES_1_003_NYC_1</td>\n",
              "      <td>0</td>\n",
              "      <td>2011-4</td>\n",
              "    </tr>\n",
              "    <tr>\n",
              "      <th>3</th>\n",
              "      <td>ACCESORIES_1_004_NYC_1</td>\n",
              "      <td>0</td>\n",
              "      <td>2011-4</td>\n",
              "    </tr>\n",
              "    <tr>\n",
              "      <th>4</th>\n",
              "      <td>ACCESORIES_1_005_NYC_1</td>\n",
              "      <td>0</td>\n",
              "      <td>2011-4</td>\n",
              "    </tr>\n",
              "  </tbody>\n",
              "</table>\n",
              "</div>\n",
              "      <button class=\"colab-df-convert\" onclick=\"convertToInteractive('df-4620f2a7-5160-4a45-b22e-2db4830417d4')\"\n",
              "              title=\"Convert this dataframe to an interactive table.\"\n",
              "              style=\"display:none;\">\n",
              "        \n",
              "  <svg xmlns=\"http://www.w3.org/2000/svg\" height=\"24px\"viewBox=\"0 0 24 24\"\n",
              "       width=\"24px\">\n",
              "    <path d=\"M0 0h24v24H0V0z\" fill=\"none\"/>\n",
              "    <path d=\"M18.56 5.44l.94 2.06.94-2.06 2.06-.94-2.06-.94-.94-2.06-.94 2.06-2.06.94zm-11 1L8.5 8.5l.94-2.06 2.06-.94-2.06-.94L8.5 2.5l-.94 2.06-2.06.94zm10 10l.94 2.06.94-2.06 2.06-.94-2.06-.94-.94-2.06-.94 2.06-2.06.94z\"/><path d=\"M17.41 7.96l-1.37-1.37c-.4-.4-.92-.59-1.43-.59-.52 0-1.04.2-1.43.59L10.3 9.45l-7.72 7.72c-.78.78-.78 2.05 0 2.83L4 21.41c.39.39.9.59 1.41.59.51 0 1.02-.2 1.41-.59l7.78-7.78 2.81-2.81c.8-.78.8-2.07 0-2.86zM5.41 20L4 18.59l7.72-7.72 1.47 1.35L5.41 20z\"/>\n",
              "  </svg>\n",
              "      </button>\n",
              "      \n",
              "  <style>\n",
              "    .colab-df-container {\n",
              "      display:flex;\n",
              "      flex-wrap:wrap;\n",
              "      gap: 12px;\n",
              "    }\n",
              "\n",
              "    .colab-df-convert {\n",
              "      background-color: #E8F0FE;\n",
              "      border: none;\n",
              "      border-radius: 50%;\n",
              "      cursor: pointer;\n",
              "      display: none;\n",
              "      fill: #1967D2;\n",
              "      height: 32px;\n",
              "      padding: 0 0 0 0;\n",
              "      width: 32px;\n",
              "    }\n",
              "\n",
              "    .colab-df-convert:hover {\n",
              "      background-color: #E2EBFA;\n",
              "      box-shadow: 0px 1px 2px rgba(60, 64, 67, 0.3), 0px 1px 3px 1px rgba(60, 64, 67, 0.15);\n",
              "      fill: #174EA6;\n",
              "    }\n",
              "\n",
              "    [theme=dark] .colab-df-convert {\n",
              "      background-color: #3B4455;\n",
              "      fill: #D2E3FC;\n",
              "    }\n",
              "\n",
              "    [theme=dark] .colab-df-convert:hover {\n",
              "      background-color: #434B5C;\n",
              "      box-shadow: 0px 1px 3px 1px rgba(0, 0, 0, 0.15);\n",
              "      filter: drop-shadow(0px 1px 2px rgba(0, 0, 0, 0.3));\n",
              "      fill: #FFFFFF;\n",
              "    }\n",
              "  </style>\n",
              "\n",
              "      <script>\n",
              "        const buttonEl =\n",
              "          document.querySelector('#df-4620f2a7-5160-4a45-b22e-2db4830417d4 button.colab-df-convert');\n",
              "        buttonEl.style.display =\n",
              "          google.colab.kernel.accessAllowed ? 'block' : 'none';\n",
              "\n",
              "        async function convertToInteractive(key) {\n",
              "          const element = document.querySelector('#df-4620f2a7-5160-4a45-b22e-2db4830417d4');\n",
              "          const dataTable =\n",
              "            await google.colab.kernel.invokeFunction('convertToInteractive',\n",
              "                                                     [key], {});\n",
              "          if (!dataTable) return;\n",
              "\n",
              "          const docLinkHtml = 'Like what you see? Visit the ' +\n",
              "            '<a target=\"_blank\" href=https://colab.research.google.com/notebooks/data_table.ipynb>data table notebook</a>'\n",
              "            + ' to learn more about interactive tables.';\n",
              "          element.innerHTML = '';\n",
              "          dataTable['output_type'] = 'display_data';\n",
              "          await google.colab.output.renderOutput(dataTable, element);\n",
              "          const docLink = document.createElement('div');\n",
              "          docLink.innerHTML = docLinkHtml;\n",
              "          element.appendChild(docLink);\n",
              "        }\n",
              "      </script>\n",
              "    </div>\n",
              "  </div>\n",
              "  "
            ]
          },
          "metadata": {},
          "execution_count": 15
        }
      ],
      "source": [
        "sales_calendar.head()"
      ]
    },
    {
      "cell_type": "code",
      "execution_count": null,
      "metadata": {
        "id": "sEhyF4n6AiQa",
        "colab": {
          "base_uri": "https://localhost:8080/"
        },
        "outputId": "fc3bc972-9af2-4fb6-f331-968e1abe4cc3"
      },
      "outputs": [
        {
          "output_type": "execute_result",
          "data": {
            "text/plain": [
              "(58327370, 3)"
            ]
          },
          "metadata": {},
          "execution_count": 16
        }
      ],
      "source": [
        "sales_calendar.shape"
      ]
    },
    {
      "cell_type": "code",
      "execution_count": null,
      "metadata": {
        "id": "4gtXSnx_AiQa"
      },
      "outputs": [],
      "source": [
        "sales_calendar = sales_calendar.groupby([\"year_week\", \"id\"]).sum()"
      ]
    },
    {
      "cell_type": "code",
      "execution_count": null,
      "metadata": {
        "id": "g0NnsJaDAiQa"
      },
      "outputs": [],
      "source": [
        "sales_calendar.to_csv(\"/content/drive/MyDrive/MASTER EN DATA SCIENCE/Capstone/data_dsmarket/GrupoRetail_1/Proceso Total/BBDD output/sales_calendar_1.csv\")"
      ]
    },
    {
      "cell_type": "code",
      "execution_count": null,
      "metadata": {
        "scrolled": true,
        "id": "aqAIrgPNAiQa",
        "colab": {
          "base_uri": "https://localhost:8080/",
          "height": 455
        },
        "outputId": "6a2bf792-54dc-427a-e95d-14af73633393"
      },
      "outputs": [
        {
          "output_type": "execute_result",
          "data": {
            "text/plain": [
              "                                   units\n",
              "year_week id                            \n",
              "2011-10   ACCESORIES_1_001_BOS_1       0\n",
              "          ACCESORIES_1_001_BOS_2       0\n",
              "          ACCESORIES_1_001_BOS_3       0\n",
              "          ACCESORIES_1_001_NYC_1       0\n",
              "          ACCESORIES_1_001_NYC_2       0\n",
              "...                                  ...\n",
              "2016-9    SUPERMARKET_3_827_NYC_3    167\n",
              "          SUPERMARKET_3_827_NYC_4      0\n",
              "          SUPERMARKET_3_827_PHI_1     36\n",
              "          SUPERMARKET_3_827_PHI_2     21\n",
              "          SUPERMARKET_3_827_PHI_3     15\n",
              "\n",
              "[8354260 rows x 1 columns]"
            ],
            "text/html": [
              "\n",
              "  <div id=\"df-4c6a7616-9bff-4766-b1ff-d6608adbbbe1\">\n",
              "    <div class=\"colab-df-container\">\n",
              "      <div>\n",
              "<style scoped>\n",
              "    .dataframe tbody tr th:only-of-type {\n",
              "        vertical-align: middle;\n",
              "    }\n",
              "\n",
              "    .dataframe tbody tr th {\n",
              "        vertical-align: top;\n",
              "    }\n",
              "\n",
              "    .dataframe thead th {\n",
              "        text-align: right;\n",
              "    }\n",
              "</style>\n",
              "<table border=\"1\" class=\"dataframe\">\n",
              "  <thead>\n",
              "    <tr style=\"text-align: right;\">\n",
              "      <th></th>\n",
              "      <th></th>\n",
              "      <th>units</th>\n",
              "    </tr>\n",
              "    <tr>\n",
              "      <th>year_week</th>\n",
              "      <th>id</th>\n",
              "      <th></th>\n",
              "    </tr>\n",
              "  </thead>\n",
              "  <tbody>\n",
              "    <tr>\n",
              "      <th rowspan=\"5\" valign=\"top\">2011-10</th>\n",
              "      <th>ACCESORIES_1_001_BOS_1</th>\n",
              "      <td>0</td>\n",
              "    </tr>\n",
              "    <tr>\n",
              "      <th>ACCESORIES_1_001_BOS_2</th>\n",
              "      <td>0</td>\n",
              "    </tr>\n",
              "    <tr>\n",
              "      <th>ACCESORIES_1_001_BOS_3</th>\n",
              "      <td>0</td>\n",
              "    </tr>\n",
              "    <tr>\n",
              "      <th>ACCESORIES_1_001_NYC_1</th>\n",
              "      <td>0</td>\n",
              "    </tr>\n",
              "    <tr>\n",
              "      <th>ACCESORIES_1_001_NYC_2</th>\n",
              "      <td>0</td>\n",
              "    </tr>\n",
              "    <tr>\n",
              "      <th>...</th>\n",
              "      <th>...</th>\n",
              "      <td>...</td>\n",
              "    </tr>\n",
              "    <tr>\n",
              "      <th rowspan=\"5\" valign=\"top\">2016-9</th>\n",
              "      <th>SUPERMARKET_3_827_NYC_3</th>\n",
              "      <td>167</td>\n",
              "    </tr>\n",
              "    <tr>\n",
              "      <th>SUPERMARKET_3_827_NYC_4</th>\n",
              "      <td>0</td>\n",
              "    </tr>\n",
              "    <tr>\n",
              "      <th>SUPERMARKET_3_827_PHI_1</th>\n",
              "      <td>36</td>\n",
              "    </tr>\n",
              "    <tr>\n",
              "      <th>SUPERMARKET_3_827_PHI_2</th>\n",
              "      <td>21</td>\n",
              "    </tr>\n",
              "    <tr>\n",
              "      <th>SUPERMARKET_3_827_PHI_3</th>\n",
              "      <td>15</td>\n",
              "    </tr>\n",
              "  </tbody>\n",
              "</table>\n",
              "<p>8354260 rows × 1 columns</p>\n",
              "</div>\n",
              "      <button class=\"colab-df-convert\" onclick=\"convertToInteractive('df-4c6a7616-9bff-4766-b1ff-d6608adbbbe1')\"\n",
              "              title=\"Convert this dataframe to an interactive table.\"\n",
              "              style=\"display:none;\">\n",
              "        \n",
              "  <svg xmlns=\"http://www.w3.org/2000/svg\" height=\"24px\"viewBox=\"0 0 24 24\"\n",
              "       width=\"24px\">\n",
              "    <path d=\"M0 0h24v24H0V0z\" fill=\"none\"/>\n",
              "    <path d=\"M18.56 5.44l.94 2.06.94-2.06 2.06-.94-2.06-.94-.94-2.06-.94 2.06-2.06.94zm-11 1L8.5 8.5l.94-2.06 2.06-.94-2.06-.94L8.5 2.5l-.94 2.06-2.06.94zm10 10l.94 2.06.94-2.06 2.06-.94-2.06-.94-.94-2.06-.94 2.06-2.06.94z\"/><path d=\"M17.41 7.96l-1.37-1.37c-.4-.4-.92-.59-1.43-.59-.52 0-1.04.2-1.43.59L10.3 9.45l-7.72 7.72c-.78.78-.78 2.05 0 2.83L4 21.41c.39.39.9.59 1.41.59.51 0 1.02-.2 1.41-.59l7.78-7.78 2.81-2.81c.8-.78.8-2.07 0-2.86zM5.41 20L4 18.59l7.72-7.72 1.47 1.35L5.41 20z\"/>\n",
              "  </svg>\n",
              "      </button>\n",
              "      \n",
              "  <style>\n",
              "    .colab-df-container {\n",
              "      display:flex;\n",
              "      flex-wrap:wrap;\n",
              "      gap: 12px;\n",
              "    }\n",
              "\n",
              "    .colab-df-convert {\n",
              "      background-color: #E8F0FE;\n",
              "      border: none;\n",
              "      border-radius: 50%;\n",
              "      cursor: pointer;\n",
              "      display: none;\n",
              "      fill: #1967D2;\n",
              "      height: 32px;\n",
              "      padding: 0 0 0 0;\n",
              "      width: 32px;\n",
              "    }\n",
              "\n",
              "    .colab-df-convert:hover {\n",
              "      background-color: #E2EBFA;\n",
              "      box-shadow: 0px 1px 2px rgba(60, 64, 67, 0.3), 0px 1px 3px 1px rgba(60, 64, 67, 0.15);\n",
              "      fill: #174EA6;\n",
              "    }\n",
              "\n",
              "    [theme=dark] .colab-df-convert {\n",
              "      background-color: #3B4455;\n",
              "      fill: #D2E3FC;\n",
              "    }\n",
              "\n",
              "    [theme=dark] .colab-df-convert:hover {\n",
              "      background-color: #434B5C;\n",
              "      box-shadow: 0px 1px 3px 1px rgba(0, 0, 0, 0.15);\n",
              "      filter: drop-shadow(0px 1px 2px rgba(0, 0, 0, 0.3));\n",
              "      fill: #FFFFFF;\n",
              "    }\n",
              "  </style>\n",
              "\n",
              "      <script>\n",
              "        const buttonEl =\n",
              "          document.querySelector('#df-4c6a7616-9bff-4766-b1ff-d6608adbbbe1 button.colab-df-convert');\n",
              "        buttonEl.style.display =\n",
              "          google.colab.kernel.accessAllowed ? 'block' : 'none';\n",
              "\n",
              "        async function convertToInteractive(key) {\n",
              "          const element = document.querySelector('#df-4c6a7616-9bff-4766-b1ff-d6608adbbbe1');\n",
              "          const dataTable =\n",
              "            await google.colab.kernel.invokeFunction('convertToInteractive',\n",
              "                                                     [key], {});\n",
              "          if (!dataTable) return;\n",
              "\n",
              "          const docLinkHtml = 'Like what you see? Visit the ' +\n",
              "            '<a target=\"_blank\" href=https://colab.research.google.com/notebooks/data_table.ipynb>data table notebook</a>'\n",
              "            + ' to learn more about interactive tables.';\n",
              "          element.innerHTML = '';\n",
              "          dataTable['output_type'] = 'display_data';\n",
              "          await google.colab.output.renderOutput(dataTable, element);\n",
              "          const docLink = document.createElement('div');\n",
              "          docLink.innerHTML = docLinkHtml;\n",
              "          element.appendChild(docLink);\n",
              "        }\n",
              "      </script>\n",
              "    </div>\n",
              "  </div>\n",
              "  "
            ]
          },
          "metadata": {},
          "execution_count": 19
        }
      ],
      "source": [
        "sales_calendar"
      ]
    },
    {
      "cell_type": "code",
      "source": [],
      "metadata": {
        "id": "HraOCJ4xGFua"
      },
      "execution_count": null,
      "outputs": []
    }
  ],
  "metadata": {
    "kernelspec": {
      "display_name": "Python 3 (ipykernel)",
      "language": "python",
      "name": "python3"
    },
    "language_info": {
      "codemirror_mode": {
        "name": "ipython",
        "version": 3
      },
      "file_extension": ".py",
      "mimetype": "text/x-python",
      "name": "python",
      "nbconvert_exporter": "python",
      "pygments_lexer": "ipython3",
      "version": "3.9.7"
    },
    "colab": {
      "provenance": [],
      "collapsed_sections": [],
      "machine_shape": "hm",
      "include_colab_link": true
    }
  },
  "nbformat": 4,
  "nbformat_minor": 0
}